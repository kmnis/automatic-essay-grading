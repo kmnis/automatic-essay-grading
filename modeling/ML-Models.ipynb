{
 "cells": [
  {
   "cell_type": "code",
   "execution_count": 1,
   "id": "9cd0d2c7",
   "metadata": {
    "ExecuteTime": {
     "end_time": "2023-03-06T06:49:32.337770Z",
     "start_time": "2023-03-06T06:49:31.008163Z"
    }
   },
   "outputs": [],
   "source": [
    "import os\n",
    "import numpy as np\n",
    "import pandas as pd\n",
    "import pickle\n",
    "import random\n",
    "import warnings\n",
    "from copy import deepcopy\n",
    "from tqdm.notebook import tqdm\n",
    "\n",
    "import matplotlib.pyplot as plt\n",
    "import seaborn as sns\n",
    "\n",
    "from sklearn.preprocessing import StandardScaler\n",
    "from sklearn.feature_extraction.text import CountVectorizer, TfidfVectorizer\n",
    "from sklearn.model_selection import StratifiedKFold, KFold, train_test_split\n",
    "from sklearn.metrics import mean_squared_error, mean_absolute_error\n",
    "\n",
    "from sklearn.linear_model import LinearRegression\n",
    "from sklearn.ensemble import RandomForestRegressor\n",
    "from sklearn.svm import SVR\n",
    "from xgboost import XGBRegressor\n",
    "\n",
    "import nltk\n",
    "from gensim.models import Word2Vec\n",
    "import gensim.downloader as api\n",
    "\n",
    "warnings.filterwarnings(\"ignore\")\n",
    "sns.set_style(\"whitegrid\")\n",
    "\n",
    "SEED = 42\n",
    "random.seed(SEED)\n",
    "os.environ[\"PYTHONHASHSEED\"] = str(SEED)\n",
    "np.random.seed(SEED)"
   ]
  },
  {
   "cell_type": "code",
   "execution_count": 2,
   "id": "b30e49de",
   "metadata": {
    "ExecuteTime": {
     "end_time": "2023-03-06T06:49:32.677310Z",
     "start_time": "2023-03-06T06:49:32.339469Z"
    }
   },
   "outputs": [
    {
     "data": {
      "text/html": [
       "<div>\n",
       "<style scoped>\n",
       "    .dataframe tbody tr th:only-of-type {\n",
       "        vertical-align: middle;\n",
       "    }\n",
       "\n",
       "    .dataframe tbody tr th {\n",
       "        vertical-align: top;\n",
       "    }\n",
       "\n",
       "    .dataframe thead th {\n",
       "        text-align: right;\n",
       "    }\n",
       "</style>\n",
       "<table border=\"1\" class=\"dataframe\">\n",
       "  <thead>\n",
       "    <tr style=\"text-align: right;\">\n",
       "      <th></th>\n",
       "      <th>text_id</th>\n",
       "      <th>full_text</th>\n",
       "      <th>cohesion</th>\n",
       "      <th>syntax</th>\n",
       "      <th>vocabulary</th>\n",
       "      <th>phraseology</th>\n",
       "      <th>grammar</th>\n",
       "      <th>conventions</th>\n",
       "      <th>cleaned_tokenize_text</th>\n",
       "      <th>corrected_text</th>\n",
       "      <th>...</th>\n",
       "      <th>num_mistakes</th>\n",
       "      <th>lemmatized_text</th>\n",
       "      <th>sent_count</th>\n",
       "      <th>sent_len</th>\n",
       "      <th>word_count</th>\n",
       "      <th>noun_count</th>\n",
       "      <th>verb_count</th>\n",
       "      <th>adjective_count</th>\n",
       "      <th>adverb_count</th>\n",
       "      <th>score_category</th>\n",
       "    </tr>\n",
       "  </thead>\n",
       "  <tbody>\n",
       "    <tr>\n",
       "      <th>0</th>\n",
       "      <td>0016926B079C</td>\n",
       "      <td>I think that students would benefit from learn...</td>\n",
       "      <td>3.5</td>\n",
       "      <td>3.5</td>\n",
       "      <td>3.0</td>\n",
       "      <td>3.0</td>\n",
       "      <td>4.0</td>\n",
       "      <td>3.0</td>\n",
       "      <td>think students would benefit learning home cha...</td>\n",
       "      <td>think students would benefit learning home cha...</td>\n",
       "      <td>...</td>\n",
       "      <td>0</td>\n",
       "      <td>think student would benefit learn home change ...</td>\n",
       "      <td>18</td>\n",
       "      <td>14</td>\n",
       "      <td>261</td>\n",
       "      <td>54</td>\n",
       "      <td>25</td>\n",
       "      <td>24</td>\n",
       "      <td>6</td>\n",
       "      <td>medium</td>\n",
       "    </tr>\n",
       "    <tr>\n",
       "      <th>1</th>\n",
       "      <td>0022683E9EA5</td>\n",
       "      <td>When a problem is a change you have to let it ...</td>\n",
       "      <td>2.5</td>\n",
       "      <td>2.5</td>\n",
       "      <td>3.0</td>\n",
       "      <td>2.0</td>\n",
       "      <td>2.0</td>\n",
       "      <td>2.5</td>\n",
       "      <td>problem change let best matter happening chang...</td>\n",
       "      <td>problem change let best matter happening chang...</td>\n",
       "      <td>...</td>\n",
       "      <td>0</td>\n",
       "      <td>problem change let best matter happen change m...</td>\n",
       "      <td>14</td>\n",
       "      <td>38</td>\n",
       "      <td>533</td>\n",
       "      <td>102</td>\n",
       "      <td>51</td>\n",
       "      <td>38</td>\n",
       "      <td>9</td>\n",
       "      <td>low</td>\n",
       "    </tr>\n",
       "    <tr>\n",
       "      <th>2</th>\n",
       "      <td>00299B378633</td>\n",
       "      <td>Dear, Principal\\n\\nIf u change the school poli...</td>\n",
       "      <td>3.0</td>\n",
       "      <td>3.5</td>\n",
       "      <td>3.0</td>\n",
       "      <td>3.0</td>\n",
       "      <td>3.0</td>\n",
       "      <td>2.5</td>\n",
       "      <td>dear principal change school policy grade aver...</td>\n",
       "      <td>dear principal change school policy grade aver...</td>\n",
       "      <td>...</td>\n",
       "      <td>0</td>\n",
       "      <td>dear principal change school policy grade aver...</td>\n",
       "      <td>19</td>\n",
       "      <td>16</td>\n",
       "      <td>320</td>\n",
       "      <td>56</td>\n",
       "      <td>20</td>\n",
       "      <td>30</td>\n",
       "      <td>5</td>\n",
       "      <td>medium</td>\n",
       "    </tr>\n",
       "    <tr>\n",
       "      <th>3</th>\n",
       "      <td>003885A45F42</td>\n",
       "      <td>The best time in life is when you become yours...</td>\n",
       "      <td>4.5</td>\n",
       "      <td>4.5</td>\n",
       "      <td>4.5</td>\n",
       "      <td>4.5</td>\n",
       "      <td>4.0</td>\n",
       "      <td>5.0</td>\n",
       "      <td>best time life become agree greatest accomplis...</td>\n",
       "      <td>best time life become agree greatest accomplis...</td>\n",
       "      <td>...</td>\n",
       "      <td>0</td>\n",
       "      <td>best time life become agree great accomplishme...</td>\n",
       "      <td>36</td>\n",
       "      <td>20</td>\n",
       "      <td>728</td>\n",
       "      <td>106</td>\n",
       "      <td>73</td>\n",
       "      <td>62</td>\n",
       "      <td>22</td>\n",
       "      <td>high</td>\n",
       "    </tr>\n",
       "    <tr>\n",
       "      <th>4</th>\n",
       "      <td>0049B1DF5CCC</td>\n",
       "      <td>Small act of kindness can impact in other peop...</td>\n",
       "      <td>2.5</td>\n",
       "      <td>3.0</td>\n",
       "      <td>3.0</td>\n",
       "      <td>3.0</td>\n",
       "      <td>2.5</td>\n",
       "      <td>2.5</td>\n",
       "      <td>small act kindness impact people change people...</td>\n",
       "      <td>small act kindness impact people change people...</td>\n",
       "      <td>...</td>\n",
       "      <td>7</td>\n",
       "      <td>small act kindness impact people change people...</td>\n",
       "      <td>3</td>\n",
       "      <td>78</td>\n",
       "      <td>234</td>\n",
       "      <td>58</td>\n",
       "      <td>21</td>\n",
       "      <td>18</td>\n",
       "      <td>5</td>\n",
       "      <td>medium</td>\n",
       "    </tr>\n",
       "  </tbody>\n",
       "</table>\n",
       "<p>5 rows × 22 columns</p>\n",
       "</div>"
      ],
      "text/plain": [
       "        text_id                                          full_text  cohesion  \\\n",
       "0  0016926B079C  I think that students would benefit from learn...       3.5   \n",
       "1  0022683E9EA5  When a problem is a change you have to let it ...       2.5   \n",
       "2  00299B378633  Dear, Principal\\n\\nIf u change the school poli...       3.0   \n",
       "3  003885A45F42  The best time in life is when you become yours...       4.5   \n",
       "4  0049B1DF5CCC  Small act of kindness can impact in other peop...       2.5   \n",
       "\n",
       "   syntax  vocabulary  phraseology  grammar  conventions  \\\n",
       "0     3.5         3.0          3.0      4.0          3.0   \n",
       "1     2.5         3.0          2.0      2.0          2.5   \n",
       "2     3.5         3.0          3.0      3.0          2.5   \n",
       "3     4.5         4.5          4.5      4.0          5.0   \n",
       "4     3.0         3.0          3.0      2.5          2.5   \n",
       "\n",
       "                               cleaned_tokenize_text  \\\n",
       "0  think students would benefit learning home cha...   \n",
       "1  problem change let best matter happening chang...   \n",
       "2  dear principal change school policy grade aver...   \n",
       "3  best time life become agree greatest accomplis...   \n",
       "4  small act kindness impact people change people...   \n",
       "\n",
       "                                      corrected_text  ... num_mistakes  \\\n",
       "0  think students would benefit learning home cha...  ...            0   \n",
       "1  problem change let best matter happening chang...  ...            0   \n",
       "2  dear principal change school policy grade aver...  ...            0   \n",
       "3  best time life become agree greatest accomplis...  ...            0   \n",
       "4  small act kindness impact people change people...  ...            7   \n",
       "\n",
       "                                     lemmatized_text  sent_count sent_len  \\\n",
       "0  think student would benefit learn home change ...          18       14   \n",
       "1  problem change let best matter happen change m...          14       38   \n",
       "2  dear principal change school policy grade aver...          19       16   \n",
       "3  best time life become agree great accomplishme...          36       20   \n",
       "4  small act kindness impact people change people...           3       78   \n",
       "\n",
       "   word_count  noun_count  verb_count  adjective_count  adverb_count  \\\n",
       "0         261          54          25               24             6   \n",
       "1         533         102          51               38             9   \n",
       "2         320          56          20               30             5   \n",
       "3         728         106          73               62            22   \n",
       "4         234          58          21               18             5   \n",
       "\n",
       "   score_category  \n",
       "0          medium  \n",
       "1             low  \n",
       "2          medium  \n",
       "3            high  \n",
       "4          medium  \n",
       "\n",
       "[5 rows x 22 columns]"
      ]
     },
     "execution_count": 2,
     "metadata": {},
     "output_type": "execute_result"
    }
   ],
   "source": [
    "df = pd.read_csv('../data/processed_essays.csv')\n",
    "df.head()"
   ]
  },
  {
   "cell_type": "code",
   "execution_count": 3,
   "id": "1a7d715f",
   "metadata": {
    "ExecuteTime": {
     "end_time": "2023-03-06T06:49:32.685743Z",
     "start_time": "2023-03-06T06:49:32.678608Z"
    }
   },
   "outputs": [
    {
     "data": {
      "text/html": [
       "<div>\n",
       "<style scoped>\n",
       "    .dataframe tbody tr th:only-of-type {\n",
       "        vertical-align: middle;\n",
       "    }\n",
       "\n",
       "    .dataframe tbody tr th {\n",
       "        vertical-align: top;\n",
       "    }\n",
       "\n",
       "    .dataframe thead th {\n",
       "        text-align: right;\n",
       "    }\n",
       "</style>\n",
       "<table border=\"1\" class=\"dataframe\">\n",
       "  <thead>\n",
       "    <tr style=\"text-align: right;\">\n",
       "      <th></th>\n",
       "      <th>lemmatized_text</th>\n",
       "      <th>num_mistakes</th>\n",
       "      <th>sent_count</th>\n",
       "      <th>sent_len</th>\n",
       "      <th>word_count</th>\n",
       "      <th>noun_count</th>\n",
       "      <th>verb_count</th>\n",
       "      <th>adjective_count</th>\n",
       "      <th>adverb_count</th>\n",
       "    </tr>\n",
       "  </thead>\n",
       "  <tbody>\n",
       "    <tr>\n",
       "      <th>0</th>\n",
       "      <td>think student would benefit learn home change ...</td>\n",
       "      <td>0</td>\n",
       "      <td>18</td>\n",
       "      <td>14</td>\n",
       "      <td>261</td>\n",
       "      <td>54</td>\n",
       "      <td>25</td>\n",
       "      <td>24</td>\n",
       "      <td>6</td>\n",
       "    </tr>\n",
       "    <tr>\n",
       "      <th>1</th>\n",
       "      <td>problem change let best matter happen change m...</td>\n",
       "      <td>0</td>\n",
       "      <td>14</td>\n",
       "      <td>38</td>\n",
       "      <td>533</td>\n",
       "      <td>102</td>\n",
       "      <td>51</td>\n",
       "      <td>38</td>\n",
       "      <td>9</td>\n",
       "    </tr>\n",
       "    <tr>\n",
       "      <th>2</th>\n",
       "      <td>dear principal change school policy grade aver...</td>\n",
       "      <td>0</td>\n",
       "      <td>19</td>\n",
       "      <td>16</td>\n",
       "      <td>320</td>\n",
       "      <td>56</td>\n",
       "      <td>20</td>\n",
       "      <td>30</td>\n",
       "      <td>5</td>\n",
       "    </tr>\n",
       "    <tr>\n",
       "      <th>3</th>\n",
       "      <td>best time life become agree great accomplishme...</td>\n",
       "      <td>0</td>\n",
       "      <td>36</td>\n",
       "      <td>20</td>\n",
       "      <td>728</td>\n",
       "      <td>106</td>\n",
       "      <td>73</td>\n",
       "      <td>62</td>\n",
       "      <td>22</td>\n",
       "    </tr>\n",
       "    <tr>\n",
       "      <th>4</th>\n",
       "      <td>small act kindness impact people change people...</td>\n",
       "      <td>7</td>\n",
       "      <td>3</td>\n",
       "      <td>78</td>\n",
       "      <td>234</td>\n",
       "      <td>58</td>\n",
       "      <td>21</td>\n",
       "      <td>18</td>\n",
       "      <td>5</td>\n",
       "    </tr>\n",
       "  </tbody>\n",
       "</table>\n",
       "</div>"
      ],
      "text/plain": [
       "                                     lemmatized_text  num_mistakes  \\\n",
       "0  think student would benefit learn home change ...             0   \n",
       "1  problem change let best matter happen change m...             0   \n",
       "2  dear principal change school policy grade aver...             0   \n",
       "3  best time life become agree great accomplishme...             0   \n",
       "4  small act kindness impact people change people...             7   \n",
       "\n",
       "   sent_count  sent_len  word_count  noun_count  verb_count  adjective_count  \\\n",
       "0          18        14         261          54          25               24   \n",
       "1          14        38         533         102          51               38   \n",
       "2          19        16         320          56          20               30   \n",
       "3          36        20         728         106          73               62   \n",
       "4           3        78         234          58          21               18   \n",
       "\n",
       "   adverb_count  \n",
       "0             6  \n",
       "1             9  \n",
       "2             5  \n",
       "3            22  \n",
       "4             5  "
      ]
     },
     "execution_count": 3,
     "metadata": {},
     "output_type": "execute_result"
    }
   ],
   "source": [
    "target_columns = [\"cohesion\", \"syntax\", \"vocabulary\", \"phraseology\", \"grammar\", \"conventions\"]\n",
    "drop_columns = [\"text_id\", \"full_text\", \"cleaned_tokenize_text\", \"corrected_text\", \"mistakes\",\n",
    "                \"corrected_words\", \"score_category\"]\n",
    "feature_columns = [\"num_mistakes\", \"sent_count\", \"sent_len\", \"word_count\", \"noun_count\", \"verb_count\",\n",
    "                   \"adjective_count\", \"adverb_count\"]\n",
    "y = df[target_columns].copy()\n",
    "df = df.drop(drop_columns + target_columns, axis=1)\n",
    "df = df[[\"lemmatized_text\"] + feature_columns]\n",
    "df.head()"
   ]
  },
  {
   "cell_type": "code",
   "execution_count": 4,
   "id": "0e4c251e",
   "metadata": {
    "ExecuteTime": {
     "end_time": "2023-03-06T06:49:32.694168Z",
     "start_time": "2023-03-06T06:49:32.688036Z"
    }
   },
   "outputs": [
    {
     "data": {
      "text/html": [
       "<div>\n",
       "<style scoped>\n",
       "    .dataframe tbody tr th:only-of-type {\n",
       "        vertical-align: middle;\n",
       "    }\n",
       "\n",
       "    .dataframe tbody tr th {\n",
       "        vertical-align: top;\n",
       "    }\n",
       "\n",
       "    .dataframe thead th {\n",
       "        text-align: right;\n",
       "    }\n",
       "</style>\n",
       "<table border=\"1\" class=\"dataframe\">\n",
       "  <thead>\n",
       "    <tr style=\"text-align: right;\">\n",
       "      <th></th>\n",
       "      <th>cohesion</th>\n",
       "      <th>syntax</th>\n",
       "      <th>vocabulary</th>\n",
       "      <th>phraseology</th>\n",
       "      <th>grammar</th>\n",
       "      <th>conventions</th>\n",
       "    </tr>\n",
       "  </thead>\n",
       "  <tbody>\n",
       "    <tr>\n",
       "      <th>0</th>\n",
       "      <td>3.5</td>\n",
       "      <td>3.5</td>\n",
       "      <td>3.0</td>\n",
       "      <td>3.0</td>\n",
       "      <td>4.0</td>\n",
       "      <td>3.0</td>\n",
       "    </tr>\n",
       "    <tr>\n",
       "      <th>1</th>\n",
       "      <td>2.5</td>\n",
       "      <td>2.5</td>\n",
       "      <td>3.0</td>\n",
       "      <td>2.0</td>\n",
       "      <td>2.0</td>\n",
       "      <td>2.5</td>\n",
       "    </tr>\n",
       "    <tr>\n",
       "      <th>2</th>\n",
       "      <td>3.0</td>\n",
       "      <td>3.5</td>\n",
       "      <td>3.0</td>\n",
       "      <td>3.0</td>\n",
       "      <td>3.0</td>\n",
       "      <td>2.5</td>\n",
       "    </tr>\n",
       "    <tr>\n",
       "      <th>3</th>\n",
       "      <td>4.5</td>\n",
       "      <td>4.5</td>\n",
       "      <td>4.5</td>\n",
       "      <td>4.5</td>\n",
       "      <td>4.0</td>\n",
       "      <td>5.0</td>\n",
       "    </tr>\n",
       "    <tr>\n",
       "      <th>4</th>\n",
       "      <td>2.5</td>\n",
       "      <td>3.0</td>\n",
       "      <td>3.0</td>\n",
       "      <td>3.0</td>\n",
       "      <td>2.5</td>\n",
       "      <td>2.5</td>\n",
       "    </tr>\n",
       "  </tbody>\n",
       "</table>\n",
       "</div>"
      ],
      "text/plain": [
       "   cohesion  syntax  vocabulary  phraseology  grammar  conventions\n",
       "0       3.5     3.5         3.0          3.0      4.0          3.0\n",
       "1       2.5     2.5         3.0          2.0      2.0          2.5\n",
       "2       3.0     3.5         3.0          3.0      3.0          2.5\n",
       "3       4.5     4.5         4.5          4.5      4.0          5.0\n",
       "4       2.5     3.0         3.0          3.0      2.5          2.5"
      ]
     },
     "execution_count": 4,
     "metadata": {},
     "output_type": "execute_result"
    }
   ],
   "source": [
    "y.head()"
   ]
  },
  {
   "cell_type": "code",
   "execution_count": 5,
   "id": "95aa2a0b",
   "metadata": {
    "ExecuteTime": {
     "end_time": "2023-03-06T06:49:32.698739Z",
     "start_time": "2023-03-06T06:49:32.695948Z"
    }
   },
   "outputs": [],
   "source": [
    "def token_to_vector(corpus, model, vector_size):\n",
    "    \"\"\"\n",
    "    Generate vectors for list of documents using a Word Embedding\n",
    "\n",
    "    Args:\n",
    "        corpus: List of documents\n",
    "        model: Gensim's Word Embedding\n",
    "\n",
    "    Returns:\n",
    "        Document level embeddings\n",
    "    \"\"\"\n",
    "    features = []\n",
    "\n",
    "    for c in corpus:\n",
    "        vectors = []\n",
    "        for token in c:\n",
    "            if token in model:\n",
    "                try:\n",
    "                    vectors.append(model[token])\n",
    "                except KeyError:\n",
    "                    continue\n",
    "        if vectors:\n",
    "            vectors = np.asarray(vectors)\n",
    "            avg_vec = vectors.mean(axis=0)  # Take the mean since we need a 2D array instead of 3D\n",
    "            features.append(avg_vec)\n",
    "        else:\n",
    "            features.append(np.zeros(vector_size))\n",
    "    return np.array(features)"
   ]
  },
  {
   "cell_type": "code",
   "execution_count": 6,
   "id": "cfedf057",
   "metadata": {
    "ExecuteTime": {
     "end_time": "2023-03-06T06:49:32.705319Z",
     "start_time": "2023-03-06T06:49:32.699988Z"
    }
   },
   "outputs": [],
   "source": [
    "def featurize_text(df, column=\"lemmatized_text\", method=\"CountVectorizer\"):\n",
    "    \"\"\"\n",
    "    Generate embeddings using various methods\n",
    "    \"\"\"\n",
    "    if method == \"CountVectorizer\":\n",
    "        model = CountVectorizer()\n",
    "    elif method == \"Tfidf-1gram\":\n",
    "        model = TfidfVectorizer(ngram_range=(1, 1), min_df=10)\n",
    "    elif method == \"Tfidf-2gram\":\n",
    "        model = TfidfVectorizer(ngram_range=(1, 2), min_df=10)\n",
    "    else:\n",
    "        tokens = df[column].apply(lambda x: x.split())\n",
    "        if method == \"Word2Vec\":\n",
    "            model = Word2Vec(sentences=tokens, vector_size=100, workers=15, seed=SEED)\n",
    "            X = token_to_vector(tokens, model.wv, 100)\n",
    "        else:\n",
    "            model = api.load(\"glove-wiki-gigaword-200\")\n",
    "            X = token_to_vector(tokens, model, model.vector_size)\n",
    "        X = pd.DataFrame(data=X, columns=[f\"f{i+1}\" for i in range(X.shape[1])])\n",
    "    \n",
    "    if method not in [\"Word2Vec\", \"Glove\"]:\n",
    "        X = model.fit_transform(df[column])\n",
    "        X = pd.DataFrame(X.toarray(), columns=model.get_feature_names_out())\n",
    "    \n",
    "    X = pd.concat([X, df[feature_columns]], axis=1)\n",
    "    return X, model"
   ]
  },
  {
   "cell_type": "code",
   "execution_count": 7,
   "id": "6df06d54",
   "metadata": {
    "ExecuteTime": {
     "end_time": "2023-03-06T06:49:33.352038Z",
     "start_time": "2023-03-06T06:49:32.706860Z"
    }
   },
   "outputs": [
    {
     "data": {
      "image/png": "[encoded data removed]",
      "text/plain": [
       "<Figure size 1200x800 with 6 Axes>"
      ]
     },
     "metadata": {},
     "output_type": "display_data"
    }
   ],
   "source": [
    "# Check the distribution of the 6 target variables\n",
    "\n",
    "fig, axes = plt.subplots(2, 3, sharey=True, figsize=(12, 8))\n",
    "\n",
    "for i, c in enumerate(y.columns):\n",
    "    sns.histplot(y[c], ax=axes[i//3, i%3], bins=8, edgecolor='k')\n",
    "\n",
    "fig.suptitle(\"Distribution of the 6 analytic measures of a essay\")\n",
    "plt.tight_layout()\n",
    "plt.show()"
   ]
  },
  {
   "cell_type": "markdown",
   "id": "33d9c81f",
   "metadata": {},
   "source": [
    "<b>We see a low scored essays are fewer in number</b>"
   ]
  },
  {
   "cell_type": "code",
   "execution_count": 8,
   "id": "8f33b4f5",
   "metadata": {
    "ExecuteTime": {
     "end_time": "2023-03-06T06:49:33.356505Z",
     "start_time": "2023-03-06T06:49:33.353351Z"
    }
   },
   "outputs": [],
   "source": [
    "def get_metrics(y1, p1, y2, p2, fold, model, feature, target):\n",
    "    \"\"\"\n",
    "    Get various error metrics to check model performance\n",
    "    \"\"\"\n",
    "    metrics = {\n",
    "        \"Training RMSE\": mean_squared_error(y1, p1, squared=False),\n",
    "        \"Testing RMSE\": mean_squared_error(y2, p2, squared=False),\n",
    "        \"Training MAE\": mean_absolute_error(y1, p1),\n",
    "        \"Testing MAE\": mean_absolute_error(y2, p2),\n",
    "        \"Fold #\": fold,\n",
    "        \"Feature\": feature,\n",
    "        \"Model\": model\n",
    "    }\n",
    "    if target:\n",
    "        metrics[\"target\"] = target.capitalize()\n",
    "    return np.round(pd.DataFrame([metrics]), 4)"
   ]
  },
  {
   "cell_type": "code",
   "execution_count": 9,
   "id": "8a5989a0",
   "metadata": {
    "ExecuteTime": {
     "end_time": "2023-03-06T06:49:33.361018Z",
     "start_time": "2023-03-06T06:49:33.358258Z"
    }
   },
   "outputs": [],
   "source": [
    "def train_model(X_train, y_train, X_test, model):\n",
    "    \"\"\"\n",
    "    Given train-test data and a model object, train a model and return predictions\n",
    "    \"\"\"\n",
    "    model = deepcopy(model)\n",
    "    model.fit(X_train, y_train)\n",
    "    \n",
    "    p1 = model.predict(X_train)\n",
    "    p2 = model.predict(X_test)\n",
    "    return p1, p2, model"
   ]
  },
  {
   "cell_type": "code",
   "execution_count": 10,
   "id": "65c3490c",
   "metadata": {
    "ExecuteTime": {
     "end_time": "2023-03-06T06:49:33.365105Z",
     "start_time": "2023-03-06T06:49:33.362800Z"
    }
   },
   "outputs": [],
   "source": [
    "# Initialize a dictionary of model objects. We also tried Linear Regression but the performance was quite poor\n",
    "# So we decided to drop it\n",
    "\n",
    "models = {\n",
    "    \"Random Forest\": RandomForestRegressor(n_estimators=50, max_depth=8, n_jobs=15, random_state=SEED),\n",
    "    \"SVM\": SVR(),\n",
    "    \"XGBoost\": XGBRegressor(n_estimators=50, max_depth=8, n_jobs=15, random_state=SEED)\n",
    "}"
   ]
  },
  {
   "cell_type": "code",
   "execution_count": 11,
   "id": "53f3864f",
   "metadata": {
    "ExecuteTime": {
     "end_time": "2023-03-06T07:02:08.800535Z",
     "start_time": "2023-03-06T06:49:44.498196Z"
    },
    "scrolled": true
   },
   "outputs": [
    {
     "data": {
      "application/vnd.jupyter.widget-view+json": {
       "model_id": "e1c96339620642019dc6308d504f34c1",
       "version_major": 2,
       "version_minor": 0
      },
      "text/plain": [
       "  0%|          | 0/360 [00:00<?, ?it/s]"
      ]
     },
     "metadata": {},
     "output_type": "display_data"
    }
   ],
   "source": [
    "# Train models for all combinations of embeddings, 5-folds, targets and models\n",
    "\n",
    "results = []\n",
    "pbar = tqdm(total=5*5*6*2 + 2*5*6)\n",
    "\n",
    "for method in [\"CountVectorizer\", \"Tfidf-1gram\", \"Tfidf-2gram\", \"Word2Vec\", \"Glove\"]:  # For each word embedding\n",
    "    X, _ = featurize_text(df, method=method)\n",
    "    \n",
    "    kfold = KFold(n_splits=5, shuffle=True, random_state=SEED)\n",
    "    for i, (train_index, test_index) in enumerate(kfold.split(X)):  # Train 5 fold models\n",
    "        X_train = X.iloc[train_index, :]\n",
    "        X_test = X.iloc[test_index, :]\n",
    "        \n",
    "        scaler = StandardScaler()\n",
    "        X_train = scaler.fit_transform(X_train)\n",
    "        X_test = scaler.transform(X_test)\n",
    "\n",
    "        for t in target_columns:  # For each of the 6 targets\n",
    "            y_train = y[t][train_index]\n",
    "            y_test = y[t][test_index]\n",
    "\n",
    "            for k, v in models.items():  # Train multiple models\n",
    "                \n",
    "                # Don't train SVM for CV and TF-IDF because it takes a long time to train due to huge\n",
    "                # dimension size of the input features\n",
    "                if method not in [\"Word2Vec\", \"Glove\"] and k == \"SVM\":\n",
    "                    pbar.update()\n",
    "                    continue\n",
    "                train_pred, test_pred, _ = train_model(X_train, y_train, X_test, v)\n",
    "                results.append(get_metrics(y_train, train_pred, y_test, test_pred, i + 1, k, method, t))\n",
    "\n",
    "                pbar.update()\n",
    "\n",
    "results = pd.concat(results)\n",
    "results.to_csv(\"../data/results_df.csv\", index=False)"
   ]
  },
  {
   "cell_type": "code",
   "execution_count": 12,
   "id": "aed5c1b7",
   "metadata": {
    "ExecuteTime": {
     "end_time": "2023-03-06T07:02:09.565999Z",
     "start_time": "2023-03-06T07:02:08.802461Z"
    }
   },
   "outputs": [
    {
     "data": {
      "image/png": "[encoded data removed]",
      "text/plain": [
       "<Figure size 1200x900 with 6 Axes>"
      ]
     },
     "metadata": {},
     "output_type": "display_data"
    }
   ],
   "source": [
    "# Visualize the distribution of RMSE for all combinations\n",
    "\n",
    "fig, axes = plt.subplots(3, 2, figsize=(12, 9), sharex=True, sharey=True)\n",
    "\n",
    "for i, t in enumerate(target_columns):\n",
    "    sns.boxplot(data=results[results.target == t.capitalize()],\n",
    "                y=\"Testing RMSE\", x=\"Model\", hue=\"Feature\", ax=axes[i//2, i%2])\n",
    "    axes[i//2, i%2].set_xlabel(\"\")\n",
    "    axes[i//2, i%2].set_title(t.capitalize())\n",
    "\n",
    "for i in range(3):\n",
    "    for j in range(2):\n",
    "        axes[i, j].get_legend().remove()\n",
    "\n",
    "handles, labels = axes[0, 0].get_legend_handles_labels()\n",
    "fig.legend(handles, labels, title=\"\", ncol=5, bbox_to_anchor=(0.8, 1.01))\n",
    "\n",
    "fig.suptitle(\"Distribution of RMSE across 5-folds for different models and input features\", y=1.05)\n",
    "\n",
    "plt.tight_layout()\n",
    "plt.show()"
   ]
  },
  {
   "cell_type": "code",
   "execution_count": 13,
   "id": "bc969095",
   "metadata": {
    "ExecuteTime": {
     "end_time": "2023-03-06T07:02:09.581186Z",
     "start_time": "2023-03-06T07:02:09.567447Z"
    },
    "scrolled": true
   },
   "outputs": [
    {
     "data": {
      "text/html": [
       "<div>\n",
       "<style scoped>\n",
       "    .dataframe tbody tr th:only-of-type {\n",
       "        vertical-align: middle;\n",
       "    }\n",
       "\n",
       "    .dataframe tbody tr th {\n",
       "        vertical-align: top;\n",
       "    }\n",
       "\n",
       "    .dataframe thead th {\n",
       "        text-align: right;\n",
       "    }\n",
       "</style>\n",
       "<table border=\"1\" class=\"dataframe\">\n",
       "  <thead>\n",
       "    <tr style=\"text-align: right;\">\n",
       "      <th></th>\n",
       "      <th>target</th>\n",
       "      <th>Feature</th>\n",
       "      <th>Model</th>\n",
       "      <th>Testing RMSE</th>\n",
       "      <th>Testing MAE</th>\n",
       "    </tr>\n",
       "  </thead>\n",
       "  <tbody>\n",
       "    <tr>\n",
       "      <th>0</th>\n",
       "      <td>Cohesion</td>\n",
       "      <td>CountVectorizer</td>\n",
       "      <td>Random Forest</td>\n",
       "      <td>0.57844</td>\n",
       "      <td>0.46638</td>\n",
       "    </tr>\n",
       "    <tr>\n",
       "      <th>1</th>\n",
       "      <td>Conventions</td>\n",
       "      <td>CountVectorizer</td>\n",
       "      <td>Random Forest</td>\n",
       "      <td>0.55822</td>\n",
       "      <td>0.44088</td>\n",
       "    </tr>\n",
       "    <tr>\n",
       "      <th>2</th>\n",
       "      <td>Grammar</td>\n",
       "      <td>CountVectorizer</td>\n",
       "      <td>Random Forest</td>\n",
       "      <td>0.62046</td>\n",
       "      <td>0.50392</td>\n",
       "    </tr>\n",
       "    <tr>\n",
       "      <th>3</th>\n",
       "      <td>Phraseology</td>\n",
       "      <td>Word2Vec</td>\n",
       "      <td>SVM</td>\n",
       "      <td>0.57138</td>\n",
       "      <td>0.45546</td>\n",
       "    </tr>\n",
       "    <tr>\n",
       "      <th>4</th>\n",
       "      <td>Syntax</td>\n",
       "      <td>CountVectorizer</td>\n",
       "      <td>Random Forest</td>\n",
       "      <td>0.55192</td>\n",
       "      <td>0.44240</td>\n",
       "    </tr>\n",
       "    <tr>\n",
       "      <th>5</th>\n",
       "      <td>Vocabulary</td>\n",
       "      <td>Glove</td>\n",
       "      <td>SVM</td>\n",
       "      <td>0.49878</td>\n",
       "      <td>0.39066</td>\n",
       "    </tr>\n",
       "  </tbody>\n",
       "</table>\n",
       "</div>"
      ],
      "text/plain": [
       "        target          Feature          Model  Testing RMSE  Testing MAE\n",
       "0     Cohesion  CountVectorizer  Random Forest       0.57844      0.46638\n",
       "1  Conventions  CountVectorizer  Random Forest       0.55822      0.44088\n",
       "2      Grammar  CountVectorizer  Random Forest       0.62046      0.50392\n",
       "3  Phraseology         Word2Vec            SVM       0.57138      0.45546\n",
       "4       Syntax  CountVectorizer  Random Forest       0.55192      0.44240\n",
       "5   Vocabulary            Glove            SVM       0.49878      0.39066"
      ]
     },
     "execution_count": 13,
     "metadata": {},
     "output_type": "execute_result"
    }
   ],
   "source": [
    "# Find the best combination of models and embeddings for each target\n",
    "best_models = results.groupby(['target', 'Feature', 'Model'])['Testing RMSE', 'Testing MAE'].mean()\n",
    "best_models = best_models.loc[best_models.groupby('target')['Testing RMSE'].idxmin()].reset_index()\n",
    "best_models"
   ]
  },
  {
   "cell_type": "code",
   "execution_count": 14,
   "id": "71172810",
   "metadata": {
    "ExecuteTime": {
     "end_time": "2023-03-06T07:02:48.095894Z",
     "start_time": "2023-03-06T07:02:09.583346Z"
    }
   },
   "outputs": [
    {
     "data": {
      "application/vnd.jupyter.widget-view+json": {
       "model_id": "f1c8994e5f334d8b987f421276e35fc6",
       "version_major": 2,
       "version_minor": 0
      },
      "text/plain": [
       "  0%|          | 0/6 [00:00<?, ?it/s]"
      ]
     },
     "metadata": {},
     "output_type": "display_data"
    }
   ],
   "source": [
    "# Train and save a new model for each of the above identified pairs\n",
    "\n",
    "model_dict = {}\n",
    "for i in tqdm(range(len(best_models))):\n",
    "    t = best_models.target[i].lower()\n",
    "    f = best_models.Feature[i]\n",
    "    m = best_models.Model[i]\n",
    "    \n",
    "    X, fmodel = featurize_text(df, method=f)\n",
    "    X_train, X_test, y_train, y_test = train_test_split(X, y[t], random_state=SEED)\n",
    "    \n",
    "    scaler = StandardScaler()\n",
    "    \n",
    "    features = X_train.columns\n",
    "    X_train = scaler.fit_transform(X_train)\n",
    "    X_train = pd.DataFrame(data=X_train, columns=features)\n",
    "    \n",
    "    X_test = scaler.transform(X_test)\n",
    "    X_test = pd.DataFrame(data=X_test, columns=features)\n",
    "    \n",
    "    _, y_pred, model = train_model(X_train, y_train, X_test, models[m])\n",
    "    \n",
    "    model_dict[t] = (fmodel, scaler, model)\n",
    "\n",
    "\n",
    "with open(\"../data/best_models.p\", \"wb\") as f:\n",
    "    pickle.dump(model_dict, f)"
   ]
  },
  {
   "cell_type": "code",
   "execution_count": null,
   "id": "f6b94e5e",
   "metadata": {},
   "outputs": [],
   "source": [
    "# We tried some methods to improve the models below but it didn't work"
   ]
  },
  {
   "cell_type": "code",
   "execution_count": 16,
   "id": "2f47f56c",
   "metadata": {
    "ExecuteTime": {
     "end_time": "2023-03-06T07:02:48.104282Z",
     "start_time": "2023-03-06T07:02:48.101533Z"
    }
   },
   "outputs": [],
   "source": [
    "### Improve the models"
   ]
  },
  {
   "cell_type": "code",
   "execution_count": 15,
   "id": "4507f23e",
   "metadata": {
    "ExecuteTime": {
     "end_time": "2023-03-06T07:02:48.099701Z",
     "start_time": "2023-03-06T07:02:48.097282Z"
    }
   },
   "outputs": [],
   "source": [
    "#### The problem with building separate models for each target variable is that it's missing on sharing information between the models"
   ]
  },
  {
   "cell_type": "code",
   "execution_count": 17,
   "id": "5c090cad",
   "metadata": {
    "ExecuteTime": {
     "end_time": "2023-03-06T07:02:48.108962Z",
     "start_time": "2023-03-06T07:02:48.106784Z"
    }
   },
   "outputs": [],
   "source": [
    "# results2 = []\n",
    "# pbar = tqdm(total=5*5)\n",
    "\n",
    "# for method in [\"CountVectorizer\", \"Tfidf-1gram\", \"Tfidf-2gram\", \"Word2Vec\", \"Glove\"]:\n",
    "#     X, _ = featurize_text(df, method=method)\n",
    "    \n",
    "#     kfold = KFold(n_splits=5, shuffle=True, random_state=SEED)\n",
    "#     for i, (train_index, test_index) in enumerate(kfold.split(X)):\n",
    "#         X_train = X.iloc[train_index, :]\n",
    "#         X_test = X.iloc[test_index, :]\n",
    "        \n",
    "#         scaler = StandardScaler()\n",
    "#         X_train = scaler.fit_transform(X_train)\n",
    "#         X_test = scaler.transform(X_test)\n",
    "\n",
    "#         y_train = y.iloc[train_index, :]\n",
    "#         y_test = y.iloc[test_index, :]\n",
    "\n",
    "#         train_pred, test_pred, _ = train_model(X_train, y_train, X_test, models[\"Random Forest\"])\n",
    "#         results2.append(get_metrics(y_train, train_pred, y_test, test_pred, i + 1, \"Random Forest\", method, None))\n",
    "\n",
    "#         pbar.update()\n",
    "\n",
    "# results2 = pd.concat(results2)\n",
    "# results2.to_csv(\"../data/results_df2.csv\", index=False)"
   ]
  },
  {
   "cell_type": "code",
   "execution_count": 18,
   "id": "e9d1b06b",
   "metadata": {
    "ExecuteTime": {
     "end_time": "2023-03-06T07:02:48.113275Z",
     "start_time": "2023-03-06T07:02:48.111125Z"
    }
   },
   "outputs": [],
   "source": [
    "# for i in range(6):\n",
    "#     print(mean_squared_error(y_test.values[:, i], y_pred[:, i], squared=False))"
   ]
  },
  {
   "cell_type": "code",
   "execution_count": 19,
   "id": "2e94eca5",
   "metadata": {
    "ExecuteTime": {
     "end_time": "2023-03-06T07:02:48.117596Z",
     "start_time": "2023-03-06T07:02:48.115507Z"
    }
   },
   "outputs": [],
   "source": [
    "# plt.figure(figsize=(12, 6))\n",
    "\n",
    "# sns.boxplot(data=results2, y=\"Testing RMSE\", x=\"Feature\")\n",
    "\n",
    "# plt.show()"
   ]
  },
  {
   "cell_type": "code",
   "execution_count": 20,
   "id": "4ae09c51",
   "metadata": {
    "ExecuteTime": {
     "end_time": "2023-03-06T07:02:48.122262Z",
     "start_time": "2023-03-06T07:02:48.120016Z"
    }
   },
   "outputs": [],
   "source": [
    "# best_models = results2.groupby(['target', 'Feature'])['Testing RMSE', 'Testing MAE'].mean()\n",
    "# best_models = best_models.loc[best_models.groupby('target')['Testing RMSE'].idxmin()].reset_index()\n",
    "# best_models"
   ]
  }
 ],
 "metadata": {
  "kernelspec": {
   "display_name": "Python 3 (ipykernel)",
   "language": "python",
   "name": "python3"
  },
  "language_info": {
   "codemirror_mode": {
    "name": "ipython",
    "version": 3
   },
   "file_extension": ".py",
   "mimetype": "text/x-python",
   "name": "python",
   "nbconvert_exporter": "python",
   "pygments_lexer": "ipython3",
   "version": "3.10.9"
  },
  "varInspector": {
   "cols": {
    "lenName": 16,
    "lenType": 16,
    "lenVar": 40
   },
   "kernels_config": {
    "python": {
     "delete_cmd_postfix": "",
     "delete_cmd_prefix": "del ",
     "library": "var_list.py",
     "varRefreshCmd": "print(var_dic_list())"
    },
    "r": {
     "delete_cmd_postfix": ") ",
     "delete_cmd_prefix": "rm(",
     "library": "var_list.r",
     "varRefreshCmd": "cat(var_dic_list()) "
    }
   },
   "types_to_exclude": [
    "module",
    "function",
    "builtin_function_or_method",
    "instance",
    "_Feature"
   ],
   "window_display": false
  },
  "vscode": {
   "interpreter": {
    "hash": "b1fa752ca0887f17b8e0c109bdb7229e3d67df240d797e9f30425dc0f1ef03b0"
   }
  }
 },
 "nbformat": 4,
 "nbformat_minor": 5
}
